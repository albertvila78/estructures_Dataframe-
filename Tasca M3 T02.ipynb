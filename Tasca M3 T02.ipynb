{
 "cells": [
  {
   "cell_type": "markdown",
   "id": "a8fbf444",
   "metadata": {},
   "source": [
    "<h1>Exercici 1<h1>"
   ]
  },
  {
   "cell_type": "markdown",
   "id": "c1b1dda0",
   "metadata": {},
   "source": [
    "<h2>Filtrat i reducció del Dataset</h2>"
   ]
  },
  {
   "cell_type": "code",
   "execution_count": 1,
   "id": "58e74736",
   "metadata": {},
   "outputs": [
    {
     "name": "stdout",
     "output_type": "stream",
     "text": [
      "         Unnamed: 0  Year  Month  DayofMonth  DayOfWeek  DepTime  CRSDepTime  \\\n",
      "0                 0  2008      1           3          4   2003.0        1955   \n",
      "1                 1  2008      1           3          4    754.0         735   \n",
      "2                 2  2008      1           3          4    628.0         620   \n",
      "3                 4  2008      1           3          4   1829.0        1755   \n",
      "4                 5  2008      1           3          4   1940.0        1915   \n",
      "...             ...   ...    ...         ...        ...      ...         ...   \n",
      "1936753     7009710  2008     12          13          6   1250.0        1220   \n",
      "1936754     7009717  2008     12          13          6    657.0         600   \n",
      "1936755     7009718  2008     12          13          6   1007.0         847   \n",
      "1936756     7009726  2008     12          13          6   1251.0        1240   \n",
      "1936757     7009727  2008     12          13          6   1110.0        1103   \n",
      "\n",
      "         ArrTime  CRSArrTime UniqueCarrier  ...  TaxiIn TaxiOut  Cancelled  \\\n",
      "0         2211.0        2225            WN  ...     4.0     8.0          0   \n",
      "1         1002.0        1000            WN  ...     5.0    10.0          0   \n",
      "2          804.0         750            WN  ...     3.0    17.0          0   \n",
      "3         1959.0        1925            WN  ...     3.0    10.0          0   \n",
      "4         2121.0        2110            WN  ...     4.0    10.0          0   \n",
      "...          ...         ...           ...  ...     ...     ...        ...   \n",
      "1936753   1617.0        1552            DL  ...     9.0    18.0          0   \n",
      "1936754    904.0         749            DL  ...    15.0    34.0          0   \n",
      "1936755   1149.0        1010            DL  ...     8.0    32.0          0   \n",
      "1936756   1446.0        1437            DL  ...    13.0    13.0          0   \n",
      "1936757   1413.0        1418            DL  ...     8.0    11.0          0   \n",
      "\n",
      "         CancellationCode  Diverted  CarrierDelay  WeatherDelay NASDelay  \\\n",
      "0                       N         0           NaN           NaN      NaN   \n",
      "1                       N         0           NaN           NaN      NaN   \n",
      "2                       N         0           NaN           NaN      NaN   \n",
      "3                       N         0           2.0           0.0      0.0   \n",
      "4                       N         0           NaN           NaN      NaN   \n",
      "...                   ...       ...           ...           ...      ...   \n",
      "1936753                 N         0           3.0           0.0      0.0   \n",
      "1936754                 N         0           0.0          57.0     18.0   \n",
      "1936755                 N         0           1.0           0.0     19.0   \n",
      "1936756                 N         0           NaN           NaN      NaN   \n",
      "1936757                 N         0           NaN           NaN      NaN   \n",
      "\n",
      "        SecurityDelay  LateAircraftDelay  \n",
      "0                 NaN                NaN  \n",
      "1                 NaN                NaN  \n",
      "2                 NaN                NaN  \n",
      "3                 0.0               32.0  \n",
      "4                 NaN                NaN  \n",
      "...               ...                ...  \n",
      "1936753           0.0               22.0  \n",
      "1936754           0.0                0.0  \n",
      "1936755           0.0               79.0  \n",
      "1936756           NaN                NaN  \n",
      "1936757           NaN                NaN  \n",
      "\n",
      "[1936758 rows x 30 columns]\n"
     ]
    }
   ],
   "source": [
    "import pandas as pd\n",
    "import numpy as np\n",
    "\n",
    "df = pd.read_csv('DelayedFlights.csv')\n",
    "\n",
    "print(df) "
   ]
  },
  {
   "cell_type": "code",
   "execution_count": 2,
   "id": "80a60ae4",
   "metadata": {},
   "outputs": [],
   "source": [
    "df.drop(['TaxiIn', 'TaxiOut','DepTime','CRSDepTime','Diverted','TailNum'], axis = 'columns', inplace=True)"
   ]
  },
  {
   "cell_type": "markdown",
   "id": "cfe1afc2",
   "metadata": {},
   "source": [
    "<h1>Exercici 2<h1>"
   ]
  },
  {
   "cell_type": "markdown",
   "id": "7274481b",
   "metadata": {},
   "source": [
    "<h2>Resum de les dades</h2>"
   ]
  },
  {
   "cell_type": "code",
   "execution_count": 3,
   "id": "00ac62f2",
   "metadata": {},
   "outputs": [
    {
     "name": "stdout",
     "output_type": "stream",
     "text": [
      "         Unnamed: 0  Year  Month  DayofMonth  DayOfWeek  ArrTime  CRSArrTime  \\\n",
      "1782417     6583804  2008     12           6          6   2146.0        2035   \n",
      "512712      1604365  2008      3          23          7   2241.0        1333   \n",
      "447137      1395655  2008      3          31          1   1819.0        1810   \n",
      "55082        178786  2008      1           6          7   1601.0        1509   \n",
      "877634      2972767  2008      5          22          4    812.0         750   \n",
      "...             ...   ...    ...         ...        ...      ...         ...   \n",
      "1106815     3683895  2008      7          26          6   1957.0        1945   \n",
      "269784       858235  2008      2           9          6   2009.0        1953   \n",
      "627539      2001715  2008      4          16          3   1750.0        1745   \n",
      "292264       931040  2008      2          24          7   2337.0        2340   \n",
      "554861      1737123  2008      3          23          7   2148.0        1935   \n",
      "\n",
      "        UniqueCarrier  FlightNum  ActualElapsedTime  ...  Origin  Dest  \\\n",
      "1782417            YV       7281              281.0  ...     IAD   AUS   \n",
      "512712             NW        131               81.0  ...     ORD   MSP   \n",
      "447137             OO       3676               48.0  ...     SLC   PIH   \n",
      "55082              OO       6573               54.0  ...     HDN   DEN   \n",
      "877634             CO       1869              155.0  ...     JAX   IAH   \n",
      "...               ...        ...                ...  ...     ...   ...   \n",
      "1106815            WN       1610               54.0  ...     SAT   DAL   \n",
      "269784             US       1753               95.0  ...     CLT   TPA   \n",
      "627539             OO       6410               77.0  ...     BUR   SFO   \n",
      "292264             EV       4912              120.0  ...     ATL   SYR   \n",
      "554861             B6       1203              180.0  ...     BUF   RSW   \n",
      "\n",
      "         Distance  Cancelled CancellationCode CarrierDelay  WeatherDelay  \\\n",
      "1782417      1297          0                N         71.0           0.0   \n",
      "512712        334          0                N        543.0           0.0   \n",
      "447137        150          0                N          NaN           NaN   \n",
      "55082         142          0                N          0.0           0.0   \n",
      "877634        817          0                N          0.0           0.0   \n",
      "...           ...        ...              ...          ...           ...   \n",
      "1106815       248          0                N          NaN           NaN   \n",
      "269784        508          0                N         16.0           0.0   \n",
      "627539        326          0                N          NaN           NaN   \n",
      "292264        793          0                N          NaN           NaN   \n",
      "554861       1144          0                N         15.0           0.0   \n",
      "\n",
      "         NASDelay SecurityDelay  LateAircraftDelay  \n",
      "1782417       0.0           0.0                0.0  \n",
      "512712        0.0           0.0                5.0  \n",
      "447137        NaN           NaN                NaN  \n",
      "55082         0.0           0.0               52.0  \n",
      "877634       15.0           7.0                0.0  \n",
      "...           ...           ...                ...  \n",
      "1106815       NaN           NaN                NaN  \n",
      "269784        0.0           0.0                0.0  \n",
      "627539        NaN           NaN                NaN  \n",
      "292264        NaN           NaN                NaN  \n",
      "554861        0.0           0.0              118.0  \n",
      "\n",
      "[200000 rows x 24 columns]\n"
     ]
    }
   ],
   "source": [
    "reduit = df.sample(n=200000, random_state=42)\n",
    "\n",
    "print(reduit)"
   ]
  },
  {
   "cell_type": "markdown",
   "id": "e45bc610",
   "metadata": {},
   "source": [
    "<h2>Anàlisi estadístic de dades rellevants</h2>"
   ]
  },
  {
   "cell_type": "code",
   "execution_count": 149,
   "id": "0d0b7d4a",
   "metadata": {},
   "outputs": [
    {
     "name": "stdout",
     "output_type": "stream",
     "text": [
      "Número total de vols amb retard 1723415\n"
     ]
    }
   ],
   "source": [
    "# Número total de vols amb retard\n",
    "\n",
    "total = (dataset['ArrDelay'] > 0).sum()\n",
    "\n",
    "print(\"Número total de vols amb retard\", total)"
   ]
  },
  {
   "cell_type": "markdown",
   "id": "2aa9dc3e",
   "metadata": {},
   "source": [
    "<H2>Dades faltants per columna</H2>\n"
   ]
  },
  {
   "cell_type": "code",
   "execution_count": 151,
   "id": "a8b14470",
   "metadata": {},
   "outputs": [
    {
     "data": {
      "text/plain": [
       "Unnamed: 0               0\n",
       "Year                     0\n",
       "Month                    0\n",
       "DayofMonth               0\n",
       "DayOfWeek                0\n",
       "ArrTime                733\n",
       "CRSArrTime               0\n",
       "UniqueCarrier            0\n",
       "FlightNum                0\n",
       "ActualElapsedTime      873\n",
       "CRSElapsedTime          26\n",
       "AirTime                873\n",
       "ArrDelay               873\n",
       "DepDelay                 0\n",
       "Origin                   0\n",
       "Dest                     0\n",
       "Distance                 0\n",
       "Cancelled                0\n",
       "CancellationCode         0\n",
       "CarrierDelay         71030\n",
       "WeatherDelay         71030\n",
       "NASDelay             71030\n",
       "SecurityDelay        71030\n",
       "LateAircraftDelay    71030\n",
       "dtype: int64"
      ]
     },
     "execution_count": 151,
     "metadata": {},
     "output_type": "execute_result"
    }
   ],
   "source": [
    "reduit.isnull().sum()"
   ]
  },
  {
   "cell_type": "markdown",
   "id": "6ad31257",
   "metadata": {},
   "source": [
    "<h2>Columnes noves</h2>"
   ]
  },
  {
   "cell_type": "code",
   "execution_count": 4,
   "id": "e14b2899",
   "metadata": {},
   "outputs": [],
   "source": [
    "reduit[['Average Speed','Max altitude','Delayed','Type of Airplane']] = np.nan"
   ]
  },
  {
   "cell_type": "code",
   "execution_count": 5,
   "id": "54ea737b",
   "metadata": {},
   "outputs": [
    {
     "name": "stdout",
     "output_type": "stream",
     "text": [
      "         Unnamed: 0  Year  Month  DayofMonth  DayOfWeek  ArrTime  CRSArrTime  \\\n",
      "1782417     6583804  2008     12           6          6   2146.0        2035   \n",
      "512712      1604365  2008      3          23          7   2241.0        1333   \n",
      "447137      1395655  2008      3          31          1   1819.0        1810   \n",
      "55082        178786  2008      1           6          7   1601.0        1509   \n",
      "877634      2972767  2008      5          22          4    812.0         750   \n",
      "...             ...   ...    ...         ...        ...      ...         ...   \n",
      "1106815     3683895  2008      7          26          6   1957.0        1945   \n",
      "269784       858235  2008      2           9          6   2009.0        1953   \n",
      "627539      2001715  2008      4          16          3   1750.0        1745   \n",
      "292264       931040  2008      2          24          7   2337.0        2340   \n",
      "554861      1737123  2008      3          23          7   2148.0        1935   \n",
      "\n",
      "        UniqueCarrier  FlightNum  ActualElapsedTime  ...  CancellationCode  \\\n",
      "1782417            YV       7281              281.0  ...                 N   \n",
      "512712             NW        131               81.0  ...                 N   \n",
      "447137             OO       3676               48.0  ...                 N   \n",
      "55082              OO       6573               54.0  ...                 N   \n",
      "877634             CO       1869              155.0  ...                 N   \n",
      "...               ...        ...                ...  ...               ...   \n",
      "1106815            WN       1610               54.0  ...                 N   \n",
      "269784             US       1753               95.0  ...                 N   \n",
      "627539             OO       6410               77.0  ...                 N   \n",
      "292264             EV       4912              120.0  ...                 N   \n",
      "554861             B6       1203              180.0  ...                 N   \n",
      "\n",
      "         CarrierDelay  WeatherDelay  NASDelay SecurityDelay LateAircraftDelay  \\\n",
      "1782417          71.0           0.0       0.0           0.0               0.0   \n",
      "512712          543.0           0.0       0.0           0.0               5.0   \n",
      "447137            NaN           NaN       NaN           NaN               NaN   \n",
      "55082             0.0           0.0       0.0           0.0              52.0   \n",
      "877634            0.0           0.0      15.0           7.0               0.0   \n",
      "...               ...           ...       ...           ...               ...   \n",
      "1106815           NaN           NaN       NaN           NaN               NaN   \n",
      "269784           16.0           0.0       0.0           0.0               0.0   \n",
      "627539            NaN           NaN       NaN           NaN               NaN   \n",
      "292264            NaN           NaN       NaN           NaN               NaN   \n",
      "554861           15.0           0.0       0.0           0.0             118.0   \n",
      "\n",
      "         Average Speed  Max altitude Delayed  Type of Airplane  \n",
      "1782417            NaN           NaN     NaN               NaN  \n",
      "512712             NaN           NaN     NaN               NaN  \n",
      "447137             NaN           NaN     NaN               NaN  \n",
      "55082              NaN           NaN     NaN               NaN  \n",
      "877634             NaN           NaN     NaN               NaN  \n",
      "...                ...           ...     ...               ...  \n",
      "1106815            NaN           NaN     NaN               NaN  \n",
      "269784             NaN           NaN     NaN               NaN  \n",
      "627539             NaN           NaN     NaN               NaN  \n",
      "292264             NaN           NaN     NaN               NaN  \n",
      "554861             NaN           NaN     NaN               NaN  \n",
      "\n",
      "[200000 rows x 28 columns]\n"
     ]
    }
   ],
   "source": [
    "print(reduit)"
   ]
  },
  {
   "cell_type": "markdown",
   "id": "f6b044eb",
   "metadata": {},
   "source": [
    "<h2>Aerolineas amb mes endarreriments acumulats</h2>"
   ]
  },
  {
   "cell_type": "code",
   "execution_count": 6,
   "id": "b02041fa",
   "metadata": {},
   "outputs": [
    {
     "name": "stdout",
     "output_type": "stream",
     "text": [
      "                ArrDelay\n",
      "UniqueCarrier           \n",
      "WN             1178394.0\n",
      "AA              910681.0\n",
      "UA              696819.0\n"
     ]
    }
   ],
   "source": [
    "aerolinea = reduit[['UniqueCarrier', 'ArrDelay']].groupby('UniqueCarrier').sum()\n",
    "\n",
    "retards = aerolinea.sort_values(by='ArrDelay', ascending=False)\n",
    "\n",
    "aerolineas = retards.head(3)\n",
    "\n",
    "print(aerolineas)\n",
    "\n"
   ]
  },
  {
   "cell_type": "markdown",
   "id": "8b4a46b3",
   "metadata": {},
   "source": [
    "<h2>Vols mes llargs</h2>"
   ]
  },
  {
   "cell_type": "code",
   "execution_count": 155,
   "id": "2f907d59",
   "metadata": {},
   "outputs": [
    {
     "name": "stdout",
     "output_type": "stream",
     "text": [
      "         FlightNum  AirTime UniqueCarrier\n",
      "363637          15    644.0            CO\n",
      "365249          15    637.0            CO\n",
      "1727415         15    622.0            CO\n",
      "1075813         15    617.0            CO\n",
      "556383          15    613.0            CO\n",
      "1922433         15    613.0            CO\n",
      "1255336         15    610.0            CO\n",
      "1622562         15    609.0            CO\n",
      "720851          15    605.0            CO\n",
      "365506          15    603.0            CO\n",
      "1621839         15    599.0            CO\n",
      "1252209         15    597.0            CO\n",
      "1729023         15    597.0            CO\n",
      "1070136         15    592.0            CO\n",
      "878201          15    590.0            CO\n",
      "1620205         15    588.0            CO\n",
      "1520347         15    587.0            CO\n",
      "371485        1273    584.0            DL\n",
      "875487          15    580.0            CO\n",
      "369710         851    579.0            DL\n"
     ]
    }
   ],
   "source": [
    "vols = reduit[['FlightNum', 'AirTime', 'UniqueCarrier']].groupby('AirTime').sum()\n",
    "\n",
    "durada_vols = reduit[['FlightNum', 'AirTime','UniqueCarrier']].sort_values(by='AirTime', ascending=False)\n",
    "\n",
    "vols = durada_vols\n",
    "\n",
    "print(vols.head(20))"
   ]
  },
  {
   "cell_type": "markdown",
   "id": "a97f28c1",
   "metadata": {},
   "source": [
    "<h2>Vols mes endarrerits</h2>"
   ]
  },
  {
   "cell_type": "code",
   "execution_count": 156,
   "id": "97f61c93",
   "metadata": {},
   "outputs": [
    {
     "name": "stdout",
     "output_type": "stream",
     "text": [
      "         FlightNum  ArrDelay\n",
      "686014        1699    2453.0\n",
      "685437        1472    1542.0\n",
      "521096        1743    1490.0\n",
      "1400101       1968    1286.0\n",
      "1502764        282    1186.0\n"
     ]
    }
   ],
   "source": [
    "endarreriment_vols = reduit[['FlightNum', 'ArrDelay']].sort_values(by='ArrDelay', ascending=False)\n",
    "\n",
    "vols = endarreriment_vols\n",
    "\n",
    "print(vols.head())"
   ]
  },
  {
   "cell_type": "markdown",
   "id": "085bfa6e",
   "metadata": {},
   "source": [
    "<h2>Rutes mes llargues</h2>"
   ]
  },
  {
   "cell_type": "code",
   "execution_count": 122,
   "id": "fb55afdf",
   "metadata": {},
   "outputs": [
    {
     "name": "stdout",
     "output_type": "stream",
     "text": [
      "         Origin Dest\n",
      "Distance            \n",
      "4962        HNL  HNL\n",
      "4502        HNL  HNL\n",
      "4243        ORD  ORD\n",
      "4213        KOA  ORD\n",
      "4184        ORD  OGG\n"
     ]
    }
   ],
   "source": [
    "vols = reduit[['Origin', 'Dest','Distance']].groupby('Distance').max()\n",
    "\n",
    "agrupar = vols.sort_values(by='Distance', ascending=False)\n",
    "\n",
    "distancia = agrupar.head(5)\n",
    "\n",
    "print(distancia)\n"
   ]
  },
  {
   "cell_type": "markdown",
   "id": "0eb3f7db",
   "metadata": {},
   "source": [
    "<h2>Rutes amb mes enderrariments</h2>"
   ]
  },
  {
   "cell_type": "code",
   "execution_count": 163,
   "id": "21816d20",
   "metadata": {},
   "outputs": [
    {
     "name": "stdout",
     "output_type": "stream",
     "text": [
      "     Origin Dest  ArrDelay\n",
      "3479    ORD  LGA   25121.0\n",
      "3450    ORD  EWR   23865.0\n",
      "2514    LAX  SFO   21603.0\n",
      "170     ATL  EWR   20581.0\n",
      "2586    LGA  ORD   20521.0\n"
     ]
    }
   ],
   "source": [
    "rutes_retard = reduit.groupby(['Origin', 'Dest'])['ArrDelay'].sum().reset_index()\n",
    "\n",
    "rutes_retard = rutes_retard.sort_values(by='ArrDelay', ascending=False)\n",
    "\n",
    "print(rutes_retard.head())"
   ]
  },
  {
   "cell_type": "markdown",
   "id": "254b52f3",
   "metadata": {},
   "source": [
    "<h2>Aerolineas que cubreixen les rutes mes llargues</h2>"
   ]
  },
  {
   "cell_type": "code",
   "execution_count": 157,
   "id": "54c4164c",
   "metadata": {},
   "outputs": [
    {
     "name": "stdout",
     "output_type": "stream",
     "text": [
      "         Origin Dest UniqueCarrier\n",
      "Distance                          \n",
      "4962        HNL  HNL            CO\n",
      "4502        HNL  HNL            DL\n",
      "4243        ORD  ORD            UA\n",
      "4213        KOA  ORD            UA\n",
      "4184        ORD  OGG            UA\n"
     ]
    }
   ],
   "source": [
    "vols = reduit[['Origin', 'Dest','Distance','UniqueCarrier']].groupby('Distance').max()\n",
    "\n",
    "agrupar = vols.sort_values(by='Distance', ascending=False)\n",
    "\n",
    "distancia = agrupar.head(5)\n",
    "\n",
    "print(distancia)\n"
   ]
  },
  {
   "cell_type": "markdown",
   "id": "405dd96f",
   "metadata": {},
   "source": [
    "<h1>Altres dades rellevants</h1>"
   ]
  },
  {
   "cell_type": "markdown",
   "id": "7af90f52",
   "metadata": {},
   "source": [
    "<h2>Rutes amb mes retards per condicions meteorlogiques</h2>"
   ]
  },
  {
   "cell_type": "code",
   "execution_count": 141,
   "id": "52bc4699",
   "metadata": {},
   "outputs": [
    {
     "name": "stdout",
     "output_type": "stream",
     "text": [
      "     Origin Dest  WeatherDelay\n",
      "3218    MIA  EWR       21513.0\n",
      "1594    DTW  LGA       20355.0\n",
      "3714    ORD  CVG       19463.0\n",
      "1572    DTW  EWR       18716.0\n",
      "1613    DTW  ORD       14507.0\n"
     ]
    }
   ],
   "source": [
    "retard_clima = reduit.groupby(['Origin', 'Dest'])['WeatherDelay'].sum().reset_index()\n",
    "\n",
    "retard_clima = retard_clima.sort_values(by='WeatherDelay', ascending=False)\n",
    "\n",
    "print(retard_clima.head())"
   ]
  },
  {
   "cell_type": "markdown",
   "id": "112eeed9",
   "metadata": {},
   "source": [
    "<h2>Mes amb mes retards</h2>"
   ]
  },
  {
   "cell_type": "code",
   "execution_count": 165,
   "id": "d428acf1",
   "metadata": {},
   "outputs": [
    {
     "name": "stdout",
     "output_type": "stream",
     "text": [
      "El mes amb mes retards es: 6\n"
     ]
    }
   ],
   "source": [
    "\n",
    "retards = reduit.groupby('Month')['ArrDelay'].count()\n",
    "\n",
    "mes = retards.idxmax()\n",
    "\n",
    "print(\"El mes amb mes retards es:\", mes)\n"
   ]
  },
  {
   "cell_type": "code",
   "execution_count": 166,
   "id": "45ab9fa4",
   "metadata": {},
   "outputs": [
    {
     "name": "stdout",
     "output_type": "stream",
     "text": [
      "Requirement already satisfied: openpyxl in c:\\programdata\\anaconda3\\lib\\site-packages (3.0.10)\n",
      "Requirement already satisfied: et_xmlfile in c:\\programdata\\anaconda3\\lib\\site-packages (from openpyxl) (1.1.0)\n",
      "Note: you may need to restart the kernel to use updated packages.\n"
     ]
    }
   ],
   "source": [
    "pip install openpyxl"
   ]
  },
  {
   "cell_type": "code",
   "execution_count": 7,
   "id": "9ba51a2c",
   "metadata": {},
   "outputs": [],
   "source": [
    "reduit.to_excel('delayedflightreduit.xlsx', index=False)"
   ]
  },
  {
   "cell_type": "code",
   "execution_count": null,
   "id": "84aca722",
   "metadata": {},
   "outputs": [],
   "source": []
  }
 ],
 "metadata": {
  "kernelspec": {
   "display_name": "Python 3 (ipykernel)",
   "language": "python",
   "name": "python3"
  },
  "language_info": {
   "codemirror_mode": {
    "name": "ipython",
    "version": 3
   },
   "file_extension": ".py",
   "mimetype": "text/x-python",
   "name": "python",
   "nbconvert_exporter": "python",
   "pygments_lexer": "ipython3",
   "version": "3.9.13"
  }
 },
 "nbformat": 4,
 "nbformat_minor": 5
}
