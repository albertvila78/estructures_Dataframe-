{
 "cells": [
  {
   "cell_type": "code",
   "execution_count": 1,
   "id": "5914ec17",
   "metadata": {},
   "outputs": [
    {
     "name": "stdout",
     "output_type": "stream",
     "text": [
      "Requirement already satisfied: scikit-learn in c:\\programdata\\anaconda3\\lib\\site-packages (1.0.2)\n",
      "Requirement already satisfied: numpy>=1.14.6 in c:\\programdata\\anaconda3\\lib\\site-packages (from scikit-learn) (1.21.5)\n",
      "Requirement already satisfied: scipy>=1.1.0 in c:\\programdata\\anaconda3\\lib\\site-packages (from scikit-learn) (1.9.1)\n",
      "Requirement already satisfied: joblib>=0.11 in c:\\programdata\\anaconda3\\lib\\site-packages (from scikit-learn) (1.1.0)\n",
      "Requirement already satisfied: threadpoolctl>=2.0.0 in c:\\programdata\\anaconda3\\lib\\site-packages (from scikit-learn) (2.2.0)\n",
      "Note: you may need to restart the kernel to use updated packages.\n"
     ]
    }
   ],
   "source": [
    "pip install scikit-learn\n"
   ]
  },
  {
   "cell_type": "code",
   "execution_count": 8,
   "id": "e7c77659",
   "metadata": {},
   "outputs": [
    {
     "name": "stdout",
     "output_type": "stream",
     "text": [
      "Index(['Rk', 'Squad', 'Country', 'LgRk', 'MP', 'W', 'D', 'L', 'GF', 'GA', 'GD',\n",
      "       'Pts', 'Pts/G', 'xG', 'xGA', 'xGD', 'xGD/90', 'Last 5', 'Attendance',\n",
      "       'Top Team Scorer', 'Goalkeeper'],\n",
      "      dtype='object')\n"
     ]
    }
   ],
   "source": [
    "print(data.columns)\n"
   ]
  },
  {
   "cell_type": "code",
   "execution_count": 12,
   "id": "1a5921cf",
   "metadata": {},
   "outputs": [],
   "source": [
    "data = pd.read_csv('Lligues europees UEFA.csv', delimiter=';', encoding='latin-1')\n"
   ]
  },
  {
   "cell_type": "code",
   "execution_count": 9,
   "id": "78a462b0",
   "metadata": {},
   "outputs": [
    {
     "name": "stdout",
     "output_type": "stream",
     "text": [
      "Index(['Rk', 'Squad', 'Country', 'LgRk', 'MP', 'W', 'D', 'L', 'GF', 'GA', 'GD',\n",
      "       'Pts', 'Pts/G', 'xG', 'xGA', 'xGD', 'xGD/90', 'Last 5', 'Attendance',\n",
      "       'Top Team Scorer', 'Goalkeeper'],\n",
      "      dtype='object')\n"
     ]
    }
   ],
   "source": [
    "print(data.columns)"
   ]
  },
  {
   "cell_type": "markdown",
   "id": "c33fc1ba",
   "metadata": {},
   "source": [
    "<h1>Exercici 1</h1>"
   ]
  },
  {
   "cell_type": "code",
   "execution_count": 11,
   "id": "0186dac0",
   "metadata": {},
   "outputs": [
    {
     "name": "stdout",
     "output_type": "stream",
     "text": [
      "Valor estadístic t: 38.27628917615188\n",
      "P-valor: 2.426403651600312e-60\n",
      "Es rebutja l'hipótesis nul·la\n"
     ]
    }
   ],
   "source": [
    "import scipy.stats as stats\n",
    "import pandas as pd\n",
    "\n",
    "xG_data = data['xG']\n",
    "\n",
    "reference_value = 0.5\n",
    "\n",
    "\n",
    "t_statistic, p_value = stats.ttest_1samp(xG_data, reference_value)\n",
    "\n",
    "\n",
    "print(\"Valor estadístic t:\", t_statistic)\n",
    "print(\"P-valor:\", p_value)\n",
    "\n",
    "alpha = 0.05\n",
    "if p_value < alpha:\n",
    "    print(\"Es rebutja l'hipótesis nul·la\")\n",
    "else:\n",
    "    print(\"No es rebutja l'hipótesis nul·la\")\n"
   ]
  },
  {
   "cell_type": "markdown",
   "id": "5c53aff8",
   "metadata": {},
   "source": [
    "<h1>Exercici2</h1>"
   ]
  },
  {
   "cell_type": "code",
   "execution_count": 20,
   "id": "e623d11e",
   "metadata": {},
   "outputs": [
    {
     "name": "stdout",
     "output_type": "stream",
     "text": [
      "Estadística: 5.87834769888529e-05\n",
      "Valor p: 0.9999999929409592\n",
      "No es rebutja la hipótesis nula. No hi ha diferencies significatives en els valors xGD/90 entre les diferents lligues\n"
     ]
    }
   ],
   "source": [
    "#Aquí buscava trobar si hi havia diferència significativa en els gols esperats cada noranta minuts entre els diferents països\n",
    "\n",
    "\n",
    "df = pd.DataFrame(data)\n",
    "\n",
    "selected_columns = df[['Country', 'xGD/90']]\n",
    "\n",
    "attribute = 'xGD/90'\n",
    "\n",
    "groups = []\n",
    "for group in df[attribute].groupby(df['Country']):\n",
    "    groups.append(group[1])\n",
    "\n",
    "statistic, p_value = f_oneway(*groups)\n",
    "\n",
    "\n",
    "print('Estadística:', statistic)\n",
    "print('Valor p:', p_value)\n",
    "\n",
    "if p_value < 0.05:\n",
    "    print('Es rebutja la hipótesis nula. Hi ha diferencies significatives en els valors', attribute, 'entre les diferents lligues')\n",
    "else:\n",
    "    print('No es rebutja la hipótesis nula. No hi ha diferencies significatives en els valors', attribute, 'entre les diferents lligues')\n"
   ]
  },
  {
   "cell_type": "markdown",
   "id": "34af367d",
   "metadata": {},
   "source": [
    "<h1>Exercici 3</h1>"
   ]
  },
  {
   "cell_type": "code",
   "execution_count": 19,
   "id": "815add43",
   "metadata": {},
   "outputs": [
    {
     "name": "stdout",
     "output_type": "stream",
     "text": [
      "Estadística: 106.81716786247895\n",
      "Valor p: 1.2805990788078435e-68\n",
      "Es rebutja la hipótesis nula. Hi ha diferencies significatives en els valors els xGD/90 i els GF entre les diferents lligues\n"
     ]
    }
   ],
   "source": [
    "#Aquí buscava trobar si hi havia diferència significativa en els gols esperats cada noranta minuts i els gols a favor entre els diferents països\n",
    "\n",
    "selected_columns = data[['Country', 'xGD/90', 'GF']]\n",
    "\n",
    "groups = []\n",
    "for group in selected_columns.groupby('Country'):\n",
    "    groups.append(group[1]['xGD/90'])\n",
    "\n",
    "for group in selected_columns.groupby('Country'):\n",
    "    groups.append(group[1]['GF'])\n",
    "\n",
    "statistic, p_value = f_oneway(*groups)\n",
    "\n",
    "print('Estadística:', statistic)\n",
    "print('Valor p:', p_value)\n",
    "\n",
    "if p_value < 0.05:\n",
    "    print('Es rebutja la hipótesis nula. Hi ha diferencies significatives en els valors els xGD/90 i els GF entre les diferents lligues')\n",
    "else:\n",
    "    print('No es rebutja la hipótesis nula. No hi ha diferencies significatives en els valors els xGD/90 i els GF entre les diferents lligues')\n"
   ]
  },
  {
   "cell_type": "code",
   "execution_count": null,
   "id": "65ebcbe9",
   "metadata": {},
   "outputs": [],
   "source": []
  }
 ],
 "metadata": {
  "kernelspec": {
   "display_name": "Python 3 (ipykernel)",
   "language": "python",
   "name": "python3"
  },
  "language_info": {
   "codemirror_mode": {
    "name": "ipython",
    "version": 3
   },
   "file_extension": ".py",
   "mimetype": "text/x-python",
   "name": "python",
   "nbconvert_exporter": "python",
   "pygments_lexer": "ipython3",
   "version": "3.9.13"
  }
 },
 "nbformat": 4,
 "nbformat_minor": 5
}
