{
 "cells": [
  {
   "cell_type": "code",
   "execution_count": 19,
   "id": "4b9cb851",
   "metadata": {},
   "outputs": [],
   "source": [
    "#Exercici1\n",
    "\n",
    "import numpy as np\n",
    "\n",
    "def resum(array):\n",
    "    if array.ndim > 1:\n",
    "        print(\"Error.\")\n",
    "        return\n",
    "    \n",
    "    \n",
    "    print(\"Mínim:\", np.min(array))\n",
    "    print(\"Màxim:\", np.max(array))\n",
    "    print(\"Mitjana:\", np.mean(array))\n",
    "    print(\"Mediana:\", np.median(array))"
   ]
  },
  {
   "cell_type": "code",
   "execution_count": 21,
   "id": "91942ac6",
   "metadata": {},
   "outputs": [
    {
     "name": "stdout",
     "output_type": "stream",
     "text": [
      "Mínim: 1\n",
      "Màxim: 5\n",
      "Mitjana: 3.0\n",
      "Mediana: 3.0\n"
     ]
    }
   ],
   "source": [
    "dades = np.array([1, 2, 3, 4, 5])\n",
    "resum(dades)"
   ]
  },
  {
   "cell_type": "code",
   "execution_count": 22,
   "id": "c49e9d15",
   "metadata": {},
   "outputs": [],
   "source": [
    "#Exercici 2\n",
    "\n",
    "def quadrat(n):\n",
    "    funcio = np.random.randint(0, 101, size=(n, n))\n",
    "    return funcio"
   ]
  },
  {
   "cell_type": "code",
   "execution_count": 26,
   "id": "8aaabdc6",
   "metadata": {},
   "outputs": [
    {
     "name": "stdout",
     "output_type": "stream",
     "text": [
      "[[83  0 51 89 25]\n",
      " [72 58 23 59  4]\n",
      " [37 25 50 50 22]\n",
      " [97 26  7 88 85]\n",
      " [99 69 69 87 77]]\n"
     ]
    }
   ],
   "source": [
    "aleatori = quadrat(5)\n",
    "print(aleatori)"
   ]
  },
  {
   "cell_type": "code",
   "execution_count": 34,
   "id": "91e4442b",
   "metadata": {},
   "outputs": [],
   "source": [
    "#Exercici 3\n",
    "\n",
    "import numpy as np\n",
    "\n",
    "def total(taula):\n",
    "    filas = np.sum(taula, axis=1)\n",
    "    columnes = np.sum(taula, axis=0)\n",
    "    return filas, columnes"
   ]
  },
  {
   "cell_type": "code",
   "execution_count": 35,
   "id": "a9c94af9",
   "metadata": {},
   "outputs": [
    {
     "name": "stdout",
     "output_type": "stream",
     "text": [
      "Filas: [10 26]\n",
      "Columnes: [ 6  8 10 12]\n"
     ]
    }
   ],
   "source": [
    "arr = np.array([[1, 2, 3, 4],[5, 6, 7, 8]])\n",
    "\n",
    "filas, columnes = total(arr)\n",
    "\n",
    "print(\"Filas:\", filas)\n",
    "print(\"Columnes:\", columnes)"
   ]
  },
  {
   "cell_type": "code",
   "execution_count": 25,
   "id": "afdd5931",
   "metadata": {},
   "outputs": [],
   "source": [
    "#Exercici 4\n",
    "\n",
    "import numpy as np\n",
    "\n",
    "def coeficient(a,b):\n",
    "    mitja_a = np.mean(a)\n",
    "    mitja_b = np.mean(b)\n",
    "    covarianza = np.sum((a-mitja_a) * (b-mitja_b)) / len(a)\n",
    "    desv_a = np.std(a)\n",
    "    desv_b = np.std(b)\n",
    "    \n",
    "    correlacio = covarianza / (desv_a * desv_b)\n",
    "        \n",
    "    return correlacio   "
   ]
  },
  {
   "cell_type": "code",
   "execution_count": 26,
   "id": "732c9274",
   "metadata": {},
   "outputs": [
    {
     "name": "stdout",
     "output_type": "stream",
     "text": [
      "Coeficient de correlacio: 0.9999999999999998\n"
     ]
    }
   ],
   "source": [
    "x = [1, 2, 3, 4, 5]\n",
    "y = [2, 4, 6, 8, 10]\n",
    "\n",
    "coef = coeficient(x, y)\n",
    "\n",
    "print(\"Coeficient de correlacio:\", coef)"
   ]
  }
 ],
 "metadata": {
  "kernelspec": {
   "display_name": "Python 3 (ipykernel)",
   "language": "python",
   "name": "python3"
  },
  "language_info": {
   "codemirror_mode": {
    "name": "ipython",
    "version": 3
   },
   "file_extension": ".py",
   "mimetype": "text/x-python",
   "name": "python",
   "nbconvert_exporter": "python",
   "pygments_lexer": "ipython3",
   "version": "3.9.13"
  }
 },
 "nbformat": 4,
 "nbformat_minor": 5
}
