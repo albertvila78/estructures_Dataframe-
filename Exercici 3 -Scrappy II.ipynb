{
 "cells": [
  {
   "cell_type": "code",
   "execution_count": 1,
   "id": "edfe48dd",
   "metadata": {},
   "outputs": [],
   "source": [
    "import scrapy\n",
    "from scrapy.http import HtmlResponse\n",
    "\n",
    "class MySpider(scrapy.Spider):\n",
    "    name = 'myspider'\n",
    "    allowed_domains = ['laliga.com']\n",
    "    start_urls = ['https://www.laliga.com/es-GB']\n",
    "\n",
    "    def parse(self, response: HtmlResponse):\n",
    "        title = response.xpath('//title/text()').get()\n",
    "        print(\"Título de la página:\", title)\n",
    "\n",
    "        headers = response.css('h1, h2, h3, h4, h5, h6')\n",
    "        print(\"Cabeceras de sección:\")\n",
    "        for header in headers:\n",
    "            print(header.get().strip())\n"
   ]
  },
  {
   "cell_type": "code",
   "execution_count": 2,
   "id": "e09681d4",
   "metadata": {},
   "outputs": [
    {
     "name": "stderr",
     "output_type": "stream",
     "text": [
      "2023-08-31 12:03:43 [scrapy.utils.log] INFO: Scrapy 2.6.2 started (bot: scrapybot)\n",
      "2023-08-31 12:03:43 [scrapy.utils.log] INFO: Versions: lxml 4.9.1.0, libxml2 2.9.14, cssselect 1.1.0, parsel 1.6.0, w3lib 1.21.0, Twisted 22.2.0, Python 3.9.13 (main, Aug 25 2022, 23:51:50) [MSC v.1916 64 bit (AMD64)], pyOpenSSL 22.0.0 (OpenSSL 1.1.1q  5 Jul 2022), cryptography 37.0.1, Platform Windows-10-10.0.19045-SP0\n",
      "2023-08-31 12:03:43 [scrapy.crawler] INFO: Overridden settings:\n",
      "{}\n",
      "2023-08-31 12:03:43 [scrapy.utils.log] DEBUG: Using reactor: twisted.internet.selectreactor.SelectReactor\n",
      "2023-08-31 12:03:43 [scrapy.extensions.telnet] INFO: Telnet Password: 95da490315d80b14\n",
      "2023-08-31 12:03:43 [scrapy.middleware] INFO: Enabled extensions:\n",
      "['scrapy.extensions.corestats.CoreStats',\n",
      " 'scrapy.extensions.telnet.TelnetConsole',\n",
      " 'scrapy.extensions.logstats.LogStats']\n",
      "2023-08-31 12:03:44 [scrapy.middleware] INFO: Enabled downloader middlewares:\n",
      "['scrapy.downloadermiddlewares.httpauth.HttpAuthMiddleware',\n",
      " 'scrapy.downloadermiddlewares.downloadtimeout.DownloadTimeoutMiddleware',\n",
      " 'scrapy.downloadermiddlewares.defaultheaders.DefaultHeadersMiddleware',\n",
      " 'scrapy.downloadermiddlewares.useragent.UserAgentMiddleware',\n",
      " 'scrapy.downloadermiddlewares.retry.RetryMiddleware',\n",
      " 'scrapy.downloadermiddlewares.redirect.MetaRefreshMiddleware',\n",
      " 'scrapy.downloadermiddlewares.httpcompression.HttpCompressionMiddleware',\n",
      " 'scrapy.downloadermiddlewares.redirect.RedirectMiddleware',\n",
      " 'scrapy.downloadermiddlewares.cookies.CookiesMiddleware',\n",
      " 'scrapy.downloadermiddlewares.httpproxy.HttpProxyMiddleware',\n",
      " 'scrapy.downloadermiddlewares.stats.DownloaderStats']\n",
      "2023-08-31 12:03:44 [scrapy.middleware] INFO: Enabled spider middlewares:\n",
      "['scrapy.spidermiddlewares.httperror.HttpErrorMiddleware',\n",
      " 'scrapy.spidermiddlewares.offsite.OffsiteMiddleware',\n",
      " 'scrapy.spidermiddlewares.referer.RefererMiddleware',\n",
      " 'scrapy.spidermiddlewares.urllength.UrlLengthMiddleware',\n",
      " 'scrapy.spidermiddlewares.depth.DepthMiddleware']\n",
      "2023-08-31 12:03:44 [scrapy.middleware] INFO: Enabled item pipelines:\n",
      "[]\n",
      "2023-08-31 12:03:44 [scrapy.core.engine] INFO: Spider opened\n",
      "2023-08-31 12:03:44 [scrapy.extensions.logstats] INFO: Crawled 0 pages (at 0 pages/min), scraped 0 items (at 0 items/min)\n",
      "2023-08-31 12:03:44 [scrapy.extensions.telnet] INFO: Telnet console listening on 127.0.0.1:6030\n",
      "2023-08-31 12:03:44 [scrapy.core.engine] DEBUG: Crawled (200) <GET https://www.laliga.com/es-GB> (referer: None)\n",
      "2023-08-31 12:03:44 [scrapy.core.engine] INFO: Closing spider (finished)\n",
      "2023-08-31 12:03:44 [scrapy.statscollectors] INFO: Dumping Scrapy stats:\n",
      "{'downloader/request_bytes': 223,\n",
      " 'downloader/request_count': 1,\n",
      " 'downloader/request_method_count/GET': 1,\n",
      " 'downloader/response_bytes': 85394,\n",
      " 'downloader/response_count': 1,\n",
      " 'downloader/response_status_count/200': 1,\n",
      " 'elapsed_time_seconds': 0.26865,\n",
      " 'finish_reason': 'finished',\n",
      " 'finish_time': datetime.datetime(2023, 8, 31, 10, 3, 44, 545843),\n",
      " 'httpcompression/response_bytes': 586523,\n",
      " 'httpcompression/response_count': 1,\n",
      " 'log_count/DEBUG': 2,\n",
      " 'log_count/INFO': 10,\n",
      " 'response_received_count': 1,\n",
      " 'scheduler/dequeued': 1,\n",
      " 'scheduler/dequeued/memory': 1,\n",
      " 'scheduler/enqueued': 1,\n",
      " 'scheduler/enqueued/memory': 1,\n",
      " 'start_time': datetime.datetime(2023, 8, 31, 10, 3, 44, 277193)}\n",
      "2023-08-31 12:03:44 [scrapy.core.engine] INFO: Spider closed (finished)\n"
     ]
    },
    {
     "name": "stdout",
     "output_type": "stream",
     "text": [
      "Título de la página: Página web oficial de LALIGA | LALIGA\n",
      "Cabeceras de sección:\n",
      "<h1 class=\"styled__HiddenH1-sc-13aso5s-0 gLLHNp\">LALIGA 2023/24</h1>\n",
      "<h4 class=\"styled__TextHeaderStyled-sc-1edycnf-0 hlHrtS\">PRÓXIMOS PARTIDOS</h4>\n",
      "<h4 class=\"styled__TextHeaderStyled-sc-1edycnf-0 hjTNlY dataList-title\">Últimas noticias LALIGA</h4>\n",
      "<h4 class=\"styled__TextHeaderStyled-sc-1edycnf-0 cWqVPC dataList-title\">Últimos vídeos LALIGA</h4>\n",
      "<h4 class=\"styled__TextHeaderStyled-sc-1edycnf-0 hlHrtS\">APPS LALIGA</h4>\n"
     ]
    }
   ],
   "source": [
    "from scrapy.crawler import CrawlerProcess\n",
    "\n",
    "process = CrawlerProcess()\n",
    "process.crawl(MySpider)\n",
    "process.start()"
   ]
  },
  {
   "cell_type": "code",
   "execution_count": null,
   "id": "653173c2",
   "metadata": {},
   "outputs": [],
   "source": []
  }
 ],
 "metadata": {
  "kernelspec": {
   "display_name": "Python 3 (ipykernel)",
   "language": "python",
   "name": "python3"
  },
  "language_info": {
   "codemirror_mode": {
    "name": "ipython",
    "version": 3
   },
   "file_extension": ".py",
   "mimetype": "text/x-python",
   "name": "python",
   "nbconvert_exporter": "python",
   "pygments_lexer": "ipython3",
   "version": "3.9.13"
  }
 },
 "nbformat": 4,
 "nbformat_minor": 5
}
