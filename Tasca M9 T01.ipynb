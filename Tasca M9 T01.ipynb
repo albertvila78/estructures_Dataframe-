{
 "cells": [
  {
   "cell_type": "markdown",
   "id": "891963ae",
   "metadata": {},
   "source": [
    "<h1>Exercici 1</h1>"
   ]
  },
  {
   "cell_type": "code",
   "execution_count": null,
   "id": "ddf92da3",
   "metadata": {},
   "outputs": [],
   "source": [
    "#Per fer el sentiment analysis he escollit el review d'una pelicula"
   ]
  },
  {
   "cell_type": "code",
   "execution_count": 1,
   "id": "8a505c14",
   "metadata": {},
   "outputs": [
    {
     "name": "stdout",
     "output_type": "stream",
     "text": [
      "[('and', 7), ('The', 5), ('is', 5), ('a', 5), ('movie', 5), ('the', 5), ('.', 5), ('to', 4), ('of', 4), (',', 4)]\n"
     ]
    }
   ],
   "source": [
    "import nltk\n",
    "\n",
    "from nltk.sentiment.vader import SentimentIntensityAnalyzer\n",
    "\n",
    "from nltk.corpus import stopwords\n",
    "\n",
    "from nltk.tokenize import word_tokenize\n",
    "\n",
    "from nltk.stem import WordNetLemmatizer\n",
    "\n",
    "from nltk.stem import PorterStemmer\n",
    "from sklearn.metrics import confusion_matrix, classification_report\n",
    "import numpy as np\n",
    "\n",
    "texto = \"The SpongeBob Squarepants Movie is a hilarious and fun movie that will appeal to both kids and adults.The movie follows the adventures of SpongeBob and his friend Patrick as they try to save Bikini Bottom from the evil Plankton,who wants to steal the secret formula of the Krabby Patty. The movie is full of jokes, references, and absurd situations that will make you laugh out loud. The animation is colorful and expressive, and the voice acting is superb. The movie also has some catchy songs and a cameo appearance by David Hasselhoff. The SpongeBob Squarepants Movie is a great example of how to adapt a TV show into a movie without losing its essence or charm.\"\n",
    "\n",
    "# Tokenitzar el text en paraules\n",
    "palabras = nltk.word_tokenize(texto)\n",
    "\n",
    "# Calcular la frecuencia de paraules\n",
    "frecuencia = nltk.FreqDist(palabras)\n",
    "print(frecuencia.most_common(10))\n"
   ]
  },
  {
   "cell_type": "code",
   "execution_count": 5,
   "id": "54de6b1b",
   "metadata": {},
   "outputs": [
    {
     "name": "stderr",
     "output_type": "stream",
     "text": [
      "[nltk_data] Downloading package wordnet to\n",
      "[nltk_data]     C:\\Users\\Elisa\\AppData\\Roaming\\nltk_data...\n",
      "[nltk_data]   Package wordnet is already up-to-date!\n",
      "[nltk_data] Downloading package omw-1.4 to\n",
      "[nltk_data]     C:\\Users\\Elisa\\AppData\\Roaming\\nltk_data...\n",
      "[nltk_data]   Package omw-1.4 is already up-to-date!\n"
     ]
    },
    {
     "data": {
      "text/plain": [
       "True"
      ]
     },
     "execution_count": 5,
     "metadata": {},
     "output_type": "execute_result"
    }
   ],
   "source": [
    "nltk.download('wordnet')\n",
    "nltk.download('omw-1.4')"
   ]
  },
  {
   "cell_type": "markdown",
   "id": "25c9dc1b",
   "metadata": {},
   "source": [
    "<h1>Exercici 2</h1>"
   ]
  },
  {
   "cell_type": "code",
   "execution_count": 6,
   "id": "3a28f68c",
   "metadata": {},
   "outputs": [
    {
     "name": "stdout",
     "output_type": "stream",
     "text": [
      "spongebob squarep movi hilari fun movi appeal kid adults.th movi follow adventur spongebob friend patrick tri save bikini bottom evil plankton , want steal secret formula krabbi patti . movi full joke , refer , absurd situat make laugh loud . anim color express , voic act superb . movi also catchi song cameo appear david hasselhoff . spongebob squarep movi great exampl adapt tv show movi without lose essenc charm .\n"
     ]
    }
   ],
   "source": [
    "\n",
    "def preprocess_text(text):\n",
    "    # Tokenitzar el text\n",
    "    tokens = word_tokenize(text.lower())\n",
    "\n",
    "    # Treure stop words\n",
    "    filtered_tokens = [token for token in tokens if token not in stopwords.words('english')]\n",
    "\n",
    "    # Stemming\n",
    "    stemmer = nltk.SnowballStemmer('english')\n",
    "    stemmer = PorterStemmer()\n",
    "    stemmed_tokens = [stemmer.stem(token) for token in filtered_tokens]\n",
    "\n",
    "    processed_text = ' '.join(stemmed_tokens)\n",
    "\n",
    "    return processed_text\n",
    "\n",
    "# Aplicar la funció preprocess_text a la variable 'text'\n",
    "texto = preprocess_text(texto)\n",
    "\n",
    "#Text resultant de treure les stopwords i fer stemming\n",
    "print(texto)\n"
   ]
  },
  {
   "cell_type": "markdown",
   "id": "7db7d1ea",
   "metadata": {},
   "source": [
    "<h1>Exercici 3<h1>"
   ]
  },
  {
   "cell_type": "code",
   "execution_count": 36,
   "id": "3a9f48ee",
   "metadata": {},
   "outputs": [
    {
     "name": "stdout",
     "output_type": "stream",
     "text": [
      "El text es positiu.\n"
     ]
    }
   ],
   "source": [
    "analyzer = SentimentIntensityAnalyzer()\n",
    "\n",
    "# Crear funció per analizar el sentiment\n",
    "def analyze_sentiment(text):\n",
    "    sia = SentimentIntensityAnalyzer()\n",
    "    sentiment_scores = sia.polarity_scores(text)\n",
    "\n",
    "    # Determinar si el sentimient es positiu en funció d'un umbral\n",
    "    if sentiment_scores['compound'] >= 0.2:\n",
    "        return \"El text es positiu.\"\n",
    "    else:\n",
    "        return \"El text no es positiu.\"\n",
    "\n",
    "# Aplicar la función d'análisis de sentiment al text\n",
    "sentiment = analyze_sentiment(texto)\n",
    "\n",
    "\n",
    "print(sentiment)\n",
    "\n",
    "\n",
    "\n"
   ]
  },
  {
   "cell_type": "code",
   "execution_count": null,
   "id": "732e254b",
   "metadata": {},
   "outputs": [],
   "source": [
    "#En aquest cas dona com resultat un text amb sentiment positiu que llegint la review es una afirmació correcte"
   ]
  }
 ],
 "metadata": {
  "kernelspec": {
   "display_name": "Python 3 (ipykernel)",
   "language": "python",
   "name": "python3"
  },
  "language_info": {
   "codemirror_mode": {
    "name": "ipython",
    "version": 3
   },
   "file_extension": ".py",
   "mimetype": "text/x-python",
   "name": "python",
   "nbconvert_exporter": "python",
   "pygments_lexer": "ipython3",
   "version": "3.9.13"
  }
 },
 "nbformat": 4,
 "nbformat_minor": 5
}
